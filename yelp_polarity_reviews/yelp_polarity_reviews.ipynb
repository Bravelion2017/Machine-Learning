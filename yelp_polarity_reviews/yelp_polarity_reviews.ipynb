{
  "cells": [
    {
      "cell_type": "markdown",
      "metadata": {
        "id": "cMSn67px4ANI",
        "toc": true
      },
      "source": [
        "<h1>Table of Contents<span class=\"tocSkip\"></span></h1>\n",
        "<div class=\"toc\"><ul class=\"toc-item\"><li><span><a href=\"#Overview\" data-toc-modified-id=\"Overview-1\"><span class=\"toc-item-num\">1&nbsp;&nbsp;</span>Overview</a></span></li><li><span><a href=\"#Notebook-Configuration\" data-toc-modified-id=\"Notebook-Configuration-2\"><span class=\"toc-item-num\">2&nbsp;&nbsp;</span>Notebook Configuration</a></span><ul class=\"toc-item\"><li><span><a href=\"#Google-drive\" data-toc-modified-id=\"Google-drive-2.1\"><span class=\"toc-item-num\">2.1&nbsp;&nbsp;</span>Google drive</a></span></li><li><span><a href=\"#Warning\" data-toc-modified-id=\"Warning-2.2\"><span class=\"toc-item-num\">2.2&nbsp;&nbsp;</span>Warning</a></span></li><li><span><a href=\"#Matplotlib\" data-toc-modified-id=\"Matplotlib-2.3\"><span class=\"toc-item-num\">2.3&nbsp;&nbsp;</span>Matplotlib</a></span></li><li><span><a href=\"#TensorFlow\" data-toc-modified-id=\"TensorFlow-2.4\"><span class=\"toc-item-num\">2.4&nbsp;&nbsp;</span>TensorFlow</a></span></li><li><span><a href=\"#Random-seed\" data-toc-modified-id=\"Random-seed-2.5\"><span class=\"toc-item-num\">2.5&nbsp;&nbsp;</span>Random seed</a></span></li></ul></li><li><span><a href=\"#Data-Preprocessing\" data-toc-modified-id=\"Data-Preprocessing-3\"><span class=\"toc-item-num\">3&nbsp;&nbsp;</span>Data Preprocessing</a></span></li><li><span><a href=\"#Training\" data-toc-modified-id=\"Training-4\"><span class=\"toc-item-num\">4&nbsp;&nbsp;</span>Training</a></span></li><li><span><a href=\"#Testing\" data-toc-modified-id=\"Testing-5\"><span class=\"toc-item-num\">5&nbsp;&nbsp;</span>Testing</a></span></li></ul></div>"
      ]
    },
    {
      "cell_type": "markdown",
      "metadata": {
        "id": "42yc1zUrzlEh"
      },
      "source": [
        "<b>\n",
        "<p>\n",
        "<center>\n",
        "<font size=\"5\">\n",
        "Popular Machine Learning Methods: Idea, Practice and Math\n",
        "</font>\n",
        "</center>\n",
        "</p>\n",
        "    \n",
        "\n",
        "\n",
        "<p>\n",
        "<center>\n",
        "<font size=\"3\">\n",
        "Data Science, Columbian College of Arts & Sciences, George Washington University\n",
        "</font>\n",
        "</center>\n",
        "</p>\n",
        "\n",
        "<p>\n",
        "<center>\n",
        "<font size=\"3\">\n",
        "Osemekhian Ehilen\n",
        "</font>\n",
        "</center>\n",
        "</p>\n",
        "</b>"
      ]
    },
    {
      "cell_type": "markdown",
      "metadata": {
        "id": "rT2SKHw2zlEi"
      },
      "source": [
        "# Overview"
      ]
    },
    {
      "cell_type": "markdown",
      "metadata": {
        "id": "asZWLrJKzlEj"
      },
      "source": [
        "- This notebook includes exercise for Recurrent Neural Networks \n",
        "- See the accompanied slides in our [github repository](https://github.com/yuxiaohuang/teaching/tree/master/gwu/machine_learning_I/spring_2022/slides/p3_deep_learning/p3_c2_supervised_learning/p3_c2_s4_recurrent_neural_networks).\n",
        "- Here we will work on TensorFlow Dataset [yelp_polarity_reviews](https://www.tensorflow.org/datasets/catalog/yelp_polarity_reviews).\n"
      ]
    },
    {
      "cell_type": "markdown",
      "metadata": {
        "id": "WJ-IbZqAgILJ"
      },
      "source": [
        "# Notebook Configuration"
      ]
    },
    {
      "cell_type": "markdown",
      "metadata": {
        "id": "H3yB94KtgMHu"
      },
      "source": [
        "## Google drive"
      ]
    },
    {
      "cell_type": "code",
      "execution_count": null,
      "metadata": {
        "colab": {
          "base_uri": "https://localhost:8080/"
        },
        "id": "jWmYBTOwgNs-",
        "outputId": "9496a2af-7528-4b1b-bc9a-e94f3b9886a8",
        "scrolled": true
      },
      "outputs": [
        {
          "output_type": "stream",
          "name": "stdout",
          "text": [
            "Mounted at /content/drive\n"
          ]
        }
      ],
      "source": [
        "# IF YOU ARE NOT USING GOOGLE COLAB YOU CAN COMMENT\n",
        "# OUT THE from google.colab import drive AND drive.mount('/content/drive')\n",
        "# THEN MAKE YOUR OWN PATH abspath_curr\n",
        "from google.colab import drive\n",
        "import sys\n",
        "\n",
        "# Mount Google Drive\n",
        "drive.mount('/content/drive')\n",
        "#\"G:\\My Drive\\Colab Notebooks\\code\"\n",
        "\n",
        "# Get the absolute path of the current folder\n",
        "abspath_curr = '/content/drive/My Drive/Colab Notebooks/ML1_Assignment/'"
      ]
    },
    {
      "cell_type": "markdown",
      "metadata": {
        "id": "bYZhU1Wqgmqx"
      },
      "source": [
        "## Warning"
      ]
    },
    {
      "cell_type": "code",
      "execution_count": null,
      "metadata": {
        "id": "MUl4k83e4ANR"
      },
      "outputs": [],
      "source": [
        "import warnings\n",
        "\n",
        "# Ignore warnings\n",
        "warnings.filterwarnings('ignore')"
      ]
    },
    {
      "cell_type": "markdown",
      "metadata": {
        "id": "6WMODpPfgn2U"
      },
      "source": [
        "## Matplotlib"
      ]
    },
    {
      "cell_type": "code",
      "execution_count": null,
      "metadata": {
        "id": "DBRVH9SB4ANb"
      },
      "outputs": [],
      "source": [
        "import matplotlib.pyplot as plt\n",
        "%matplotlib inline \n",
        "\n",
        "# Set matplotlib sizes\n",
        "plt.rc('font', size=20)\n",
        "plt.rc('axes', titlesize=20)\n",
        "plt.rc('axes', labelsize=20)\n",
        "plt.rc('xtick', labelsize=20)\n",
        "plt.rc('ytick', labelsize=20)\n",
        "plt.rc('legend', fontsize=20)\n",
        "plt.rc('figure', titlesize=20)"
      ]
    },
    {
      "cell_type": "markdown",
      "metadata": {
        "id": "n-wNDk5nZhhO"
      },
      "source": [
        "## TensorFlow"
      ]
    },
    {
      "cell_type": "code",
      "execution_count": null,
      "metadata": {
        "id": "LjG43tEnZkfE"
      },
      "outputs": [],
      "source": [
        "# The magic below allows us to use tensorflow version 2.x\n",
        "%tensorflow_version 2.x \n",
        "import tensorflow_hub as hub\n",
        "import tensorflow as tf\n",
        "from tensorflow import keras"
      ]
    },
    {
      "cell_type": "markdown",
      "metadata": {
        "id": "40FN3UNfO2Z7"
      },
      "source": [
        "## Random seed"
      ]
    },
    {
      "cell_type": "code",
      "execution_count": null,
      "metadata": {
        "id": "uSADk0hJP71d"
      },
      "outputs": [],
      "source": [
        "# The random seed\n",
        "random_seed = 42\n",
        "\n",
        "# Set random seed in tensorflow\n",
        "tf.random.set_seed(random_seed)\n",
        "\n",
        "# Set random seed in numpy\n",
        "import numpy as np\n",
        "np.random.seed(random_seed)"
      ]
    },
    {
      "cell_type": "markdown",
      "metadata": {
        "id": "1eOpQpPu4ANk"
      },
      "source": [
        "# Data Preprocessing"
      ]
    },
    {
      "cell_type": "markdown",
      "source": [
        "## **Loading Data**"
      ],
      "metadata": {
        "id": "pyxMtDLuHQV9"
      }
    },
    {
      "cell_type": "code",
      "source": [
        "import os\n",
        "\n",
        "# Make directory\n",
        "directory = os.path.dirname(abspath_curr + 'data_yelp_reviews')\n",
        "if not os.path.exists(directory):\n",
        "    os.makedirs(directory)\n",
        "#---------------------------------------------------\n",
        "# Downloading the data to the directory\n",
        "\n",
        "import tensorflow_datasets as tfds\n",
        "\n",
        "# Get the name of the data\n",
        "data_name = 'yelp_polarity_reviews'\n",
        "\n",
        "# load data\n",
        "data, info= tfds.load(name=data_name, data_dir= abspath_curr + 'data_yelp_reviews',\n",
        "                      as_supervised=True,\n",
        "                      with_info=True)\n",
        "# name of target variable\n",
        "target= 'label'"
      ],
      "metadata": {
        "id": "6ZEBh386HBhp"
      },
      "execution_count": null,
      "outputs": []
    },
    {
      "cell_type": "markdown",
      "source": [
        "## **Getting Split Info**"
      ],
      "metadata": {
        "id": "vvpR2UF8Kb0F"
      }
    },
    {
      "cell_type": "code",
      "source": [
        "info.splits"
      ],
      "metadata": {
        "colab": {
          "base_uri": "https://localhost:8080/"
        },
        "id": "VBPhYZcPKYFe",
        "outputId": "eb62fbd0-12e1-49c6-a36d-46484c3fb5ef"
      },
      "execution_count": null,
      "outputs": [
        {
          "output_type": "execute_result",
          "data": {
            "text/plain": [
              "{'test': <tfds.core.SplitInfo num_examples=38000>,\n",
              " 'train': <tfds.core.SplitInfo num_examples=560000>}"
            ]
          },
          "metadata": {},
          "execution_count": 9
        }
      ]
    },
    {
      "cell_type": "markdown",
      "source": [
        "## **Classes**"
      ],
      "metadata": {
        "id": "nJbbZJj1Kq79"
      }
    },
    {
      "cell_type": "code",
      "source": [
        "classes= info.features[target].names\n",
        "# print classes\n",
        "classes "
      ],
      "metadata": {
        "colab": {
          "base_uri": "https://localhost:8080/"
        },
        "id": "LWbQKxvtKwdO",
        "outputId": "760ee0a1-c2f6-4af7-9e97-2ef610d12b5e"
      },
      "execution_count": null,
      "outputs": [
        {
          "output_type": "execute_result",
          "data": {
            "text/plain": [
              "['1', '2']"
            ]
          },
          "metadata": {},
          "execution_count": 10
        }
      ]
    },
    {
      "cell_type": "markdown",
      "source": [
        "## **Number of Classes**"
      ],
      "metadata": {
        "id": "ZV-N_q44K8-W"
      }
    },
    {
      "cell_type": "code",
      "source": [
        "n_classes= info.features[target].num_classes\n",
        "# print number of classes\n",
        "n_classes"
      ],
      "metadata": {
        "colab": {
          "base_uri": "https://localhost:8080/"
        },
        "id": "avyQwHpxLE7g",
        "outputId": "1e9eb546-2489-494e-a043-e21aec687f3f"
      },
      "execution_count": null,
      "outputs": [
        {
          "output_type": "execute_result",
          "data": {
            "text/plain": [
              "2"
            ]
          },
          "metadata": {},
          "execution_count": 11
        }
      ]
    },
    {
      "cell_type": "markdown",
      "source": [
        "\n",
        "## **Getting training and validation and test data**"
      ],
      "metadata": {
        "id": "TbVNyjOpLQ0L"
      }
    },
    {
      "cell_type": "code",
      "source": [
        "# Set the training, validation and test split\n",
        "split_train, split_valid, split_test = 'train[:70%]', 'train[70%:]', 'test'\n",
        "\n",
        "# Get the training data\n",
        "data_train = tfds.load(name=data_name,\n",
        "                       split=split_train,\n",
        "                       data_dir=abspath_curr + 'data_yelp_reviews',\n",
        "                       as_supervised=True)\n",
        "\n",
        "# Get the validation data\n",
        "data_valid = tfds.load(name=data_name,\n",
        "                       split=split_valid,\n",
        "                       data_dir=abspath_curr + 'data_yelp_reviews',\n",
        "                       as_supervised=True)\n",
        "\n",
        "# Get the test data\n",
        "data_test = tfds.load(name=data_name,\n",
        "                      split=split_test,\n",
        "                      data_dir=abspath_curr + 'data_yelp_reviews',\n",
        "                      as_supervised=True)"
      ],
      "metadata": {
        "id": "gMOowMU_LRJN"
      },
      "execution_count": null,
      "outputs": []
    },
    {
      "cell_type": "markdown",
      "source": [
        "## **Batching and prefetching the data**"
      ],
      "metadata": {
        "id": "muhz0LzWLglm"
      }
    },
    {
      "cell_type": "code",
      "source": [
        "# Set the batch size\n",
        "batch_size = 16\n",
        "\n",
        "# Batch and prefetch the training data\n",
        "data_train = data_train.batch(batch_size).prefetch(1)\n",
        "\n",
        "# Batch and prefetch the validation data\n",
        "data_valid = data_valid.batch(batch_size).prefetch(1)\n",
        "\n",
        "# Batch and prefetch the testing data\n",
        "data_test = data_test.batch(batch_size).prefetch(1)"
      ],
      "metadata": {
        "id": "nM6vqCeVLiQO"
      },
      "execution_count": null,
      "outputs": []
    },
    {
      "cell_type": "markdown",
      "metadata": {
        "id": "rMLlv9xK4AO9"
      },
      "source": [
        "# Training"
      ]
    },
    {
      "cell_type": "code",
      "execution_count": null,
      "metadata": {
        "id": "E7oO3_BmGKaR"
      },
      "outputs": [],
      "source": [
        "# Implement me"
      ]
    },
    {
      "cell_type": "markdown",
      "source": [
        "## **Directory for saving model**"
      ],
      "metadata": {
        "id": "6tUB6m_2Lya1"
      }
    },
    {
      "cell_type": "code",
      "source": [
        "# Make directory\n",
        "directory = os.path.dirname(abspath_curr + '/result/RNN_model_yelp_reviews/')\n",
        "if not os.path.exists(directory):\n",
        "    os.makedirs(directory)"
      ],
      "metadata": {
        "id": "LLm6GrXsL2Wi"
      },
      "execution_count": null,
      "outputs": []
    },
    {
      "cell_type": "markdown",
      "source": [
        "## **Building the architecture of the model**"
      ],
      "metadata": {
        "id": "r7ua83fwL9Ka"
      }
    },
    {
      "cell_type": "code",
      "source": [
        "# Get the model\n",
        "model = keras.Sequential([hub.KerasLayer('https://tfhub.dev/google/tf2-preview/nnlm-en-dim50/1',\n",
        "                                         trainable=False,\n",
        "                                         dtype=tf.string,\n",
        "                                         input_shape=[],\n",
        "                                         output_shape=[50]),\n",
        "                          keras.layers.Dense(128, activation='relu'),\n",
        "                          keras.layers.Dense(1, activation='sigmoid')])\n",
        "\n",
        "# Get the model summary\n",
        "model.summary()"
      ],
      "metadata": {
        "colab": {
          "base_uri": "https://localhost:8080/"
        },
        "id": "KN6wyra8L_8P",
        "outputId": "b2b0a3f5-ea79-4bc4-e4db-06aa9e30974b"
      },
      "execution_count": null,
      "outputs": [
        {
          "output_type": "stream",
          "name": "stdout",
          "text": [
            "Model: \"sequential\"\n",
            "_________________________________________________________________\n",
            " Layer (type)                Output Shape              Param #   \n",
            "=================================================================\n",
            " keras_layer (KerasLayer)    (None, 50)                48190600  \n",
            "                                                                 \n",
            " dense (Dense)               (None, 128)               6528      \n",
            "                                                                 \n",
            " dense_1 (Dense)             (None, 1)                 129       \n",
            "                                                                 \n",
            "=================================================================\n",
            "Total params: 48,197,257\n",
            "Trainable params: 6,657\n",
            "Non-trainable params: 48,190,600\n",
            "_________________________________________________________________\n"
          ]
        }
      ]
    },
    {
      "cell_type": "markdown",
      "source": [
        "## **Freezing the pretrained layers**"
      ],
      "metadata": {
        "id": "HjDQE6x5Mp2g"
      }
    },
    {
      "cell_type": "code",
      "source": [
        "# Freeze the pretrained layers\n",
        "model.layers[0].trainable = False\n",
        "\n",
        "# Get the model summary\n",
        "model.summary()"
      ],
      "metadata": {
        "colab": {
          "base_uri": "https://localhost:8080/"
        },
        "id": "B_vtiZ5pMtxt",
        "outputId": "b9bc9eb1-cf0d-443b-98d8-87cdec14afa6"
      },
      "execution_count": null,
      "outputs": [
        {
          "output_type": "stream",
          "name": "stdout",
          "text": [
            "Model: \"sequential\"\n",
            "_________________________________________________________________\n",
            " Layer (type)                Output Shape              Param #   \n",
            "=================================================================\n",
            " keras_layer (KerasLayer)    (None, 50)                48190600  \n",
            "                                                                 \n",
            " dense (Dense)               (None, 128)               6528      \n",
            "                                                                 \n",
            " dense_1 (Dense)             (None, 1)                 129       \n",
            "                                                                 \n",
            "=================================================================\n",
            "Total params: 48,197,257\n",
            "Trainable params: 6,657\n",
            "Non-trainable params: 48,190,600\n",
            "_________________________________________________________________\n"
          ]
        }
      ]
    },
    {
      "cell_type": "markdown",
      "source": [
        "## **Setting Callbacks**"
      ],
      "metadata": {
        "id": "ykq0Pgs8NHDO"
      }
    },
    {
      "cell_type": "code",
      "source": [
        "# ModelCheckpoint callback to_save_the_model\n",
        "model_checkpoint_cb = keras.callbacks.ModelCheckpoint(filepath=abspath_curr + '/result/RNN_model_yelp_reviews/model.h5',\n",
        "                                                      save_best_only=True,\n",
        "                                                      save_weights_only=True)\n",
        "\n",
        "\n",
        "# EarlyStopping callback\n",
        "early_stopping_cb = keras.callbacks.EarlyStopping(patience=5,\n",
        "                                                  restore_best_weights=True)\n",
        "\n",
        "# ReduceLROnPlateau callback #Performance Scheduling\n",
        "reduce_lr_on_plateau_cb = keras.callbacks.ReduceLROnPlateau(factor=0.1,\n",
        "                                                            patience=5)"
      ],
      "metadata": {
        "id": "wm__WO4eNJm3"
      },
      "execution_count": null,
      "outputs": []
    },
    {
      "cell_type": "markdown",
      "source": [
        "## **Compiling the Model**"
      ],
      "metadata": {
        "id": "-3raboTcNcdF"
      }
    },
    {
      "cell_type": "code",
      "source": [
        "# Compile the model\n",
        "model.compile(optimizer=keras.optimizers.Adam(learning_rate=0.001),\n",
        "              loss='binary_crossentropy',    \n",
        "              metrics=['accuracy'])\n",
        "# loss= sparse_categorical_crossentropy  for multiClass"
      ],
      "metadata": {
        "id": "ZSpkUDbeNdJE"
      },
      "execution_count": null,
      "outputs": []
    },
    {
      "cell_type": "markdown",
      "source": [
        "## **Training the Model**"
      ],
      "metadata": {
        "id": "Xy_4pOjtN1k8"
      }
    },
    {
      "cell_type": "code",
      "source": [
        "# Train, evaluate and save the best model\n",
        "history = model.fit(data_train,\n",
        "                    epochs=10,\n",
        "                    validation_data=data_valid,\n",
        "                    callbacks=[model_checkpoint_cb,\n",
        "                               early_stopping_cb,\n",
        "                               reduce_lr_on_plateau_cb])"
      ],
      "metadata": {
        "colab": {
          "base_uri": "https://localhost:8080/"
        },
        "id": "272en9O_N2F_",
        "outputId": "bb28b100-ff4f-4337-c390-a491a5875143"
      },
      "execution_count": null,
      "outputs": [
        {
          "output_type": "stream",
          "name": "stdout",
          "text": [
            "Epoch 1/10\n",
            "24500/24500 [==============================] - 119s 5ms/step - loss: 0.4418 - accuracy: 0.7907 - val_loss: 0.4308 - val_accuracy: 0.7969 - lr: 0.0010\n",
            "Epoch 2/10\n",
            "24500/24500 [==============================] - 112s 5ms/step - loss: 0.4287 - accuracy: 0.7984 - val_loss: 0.4274 - val_accuracy: 0.7988 - lr: 0.0010\n",
            "Epoch 3/10\n",
            "24500/24500 [==============================] - 108s 4ms/step - loss: 0.4249 - accuracy: 0.8006 - val_loss: 0.4261 - val_accuracy: 0.7998 - lr: 0.0010\n",
            "Epoch 4/10\n",
            "24500/24500 [==============================] - 108s 4ms/step - loss: 0.4224 - accuracy: 0.8019 - val_loss: 0.4250 - val_accuracy: 0.8002 - lr: 0.0010\n",
            "Epoch 5/10\n",
            "24500/24500 [==============================] - 108s 4ms/step - loss: 0.4206 - accuracy: 0.8028 - val_loss: 0.4247 - val_accuracy: 0.8005 - lr: 0.0010\n",
            "Epoch 6/10\n",
            "24500/24500 [==============================] - 108s 4ms/step - loss: 0.4192 - accuracy: 0.8035 - val_loss: 0.4237 - val_accuracy: 0.8008 - lr: 0.0010\n",
            "Epoch 7/10\n",
            "24500/24500 [==============================] - 108s 4ms/step - loss: 0.4180 - accuracy: 0.8044 - val_loss: 0.4235 - val_accuracy: 0.8015 - lr: 0.0010\n",
            "Epoch 8/10\n",
            "24500/24500 [==============================] - 106s 4ms/step - loss: 0.4170 - accuracy: 0.8051 - val_loss: 0.4236 - val_accuracy: 0.8017 - lr: 0.0010\n",
            "Epoch 9/10\n",
            "24500/24500 [==============================] - 107s 4ms/step - loss: 0.4161 - accuracy: 0.8055 - val_loss: 0.4235 - val_accuracy: 0.8020 - lr: 0.0010\n",
            "Epoch 10/10\n",
            "24500/24500 [==============================] - 108s 4ms/step - loss: 0.4154 - accuracy: 0.8063 - val_loss: 0.4239 - val_accuracy: 0.8016 - lr: 0.0010\n"
          ]
        }
      ]
    },
    {
      "cell_type": "markdown",
      "source": [
        "## **Learning curve**"
      ],
      "metadata": {
        "id": "NKw4Erf2llpZ"
      }
    },
    {
      "cell_type": "code",
      "source": [
        "# Make directory\n",
        "directory = os.path.dirname(abspath_curr + 'result/RNN_model_yelp_reviews/')\n",
        "if not os.path.exists(directory):\n",
        "    os.makedirs(directory)\n",
        "\n",
        "import pandas as pd\n",
        "\n",
        "# Create a figure\n",
        "pd.DataFrame(history.history).plot(figsize=(8, 5))\n",
        "\n",
        "# Save and show the figure\n",
        "plt.tight_layout()\n",
        "plt.legend(loc='center')\n",
        "plt.title(\"Learning Curve\")\n",
        "plt.xlabel('Epoch')\n",
        "plt.savefig(abspath_curr + 'result/DNN_figure_cifar100/learning_curve_yelp.pdf')\n",
        "plt.show()"
      ],
      "metadata": {
        "colab": {
          "base_uri": "https://localhost:8080/",
          "height": 392
        },
        "id": "v6ltUkNKlo_c",
        "outputId": "96886d35-4e4c-4709-f634-8d0e47d56d24"
      },
      "execution_count": null,
      "outputs": [
        {
          "output_type": "display_data",
          "data": {
            "text/plain": [
              "<Figure size 576x360 with 1 Axes>"
            ],
            "image/png": "[encoded data removed]"
          },
          "metadata": {
            "needs_background": "light"
          }
        }
      ]
    },
    {
      "cell_type": "markdown",
      "source": [
        "## **Unfreezing the pretrained layers**"
      ],
      "metadata": {
        "id": "zyc8I0rnmHD-"
      }
    },
    {
      "cell_type": "code",
      "source": [
        "# UnFreezing the pretrained layers\n",
        "model.layers[0].trainable = True\n",
        "\n",
        "# Get the model summary\n",
        "model.summary()"
      ],
      "metadata": {
        "colab": {
          "base_uri": "https://localhost:8080/"
        },
        "id": "I5KBr00bmHyx",
        "outputId": "4cd5aeba-2ec4-46d4-c4eb-1f19bf95ad7b"
      },
      "execution_count": null,
      "outputs": [
        {
          "output_type": "stream",
          "name": "stdout",
          "text": [
            "Model: \"sequential\"\n",
            "_________________________________________________________________\n",
            " Layer (type)                Output Shape              Param #   \n",
            "=================================================================\n",
            " keras_layer (KerasLayer)    (None, 50)                48190600  \n",
            "                                                                 \n",
            " dense (Dense)               (None, 128)               6528      \n",
            "                                                                 \n",
            " dense_1 (Dense)             (None, 1)                 129       \n",
            "                                                                 \n",
            "=================================================================\n",
            "Total params: 48,197,257\n",
            "Trainable params: 48,197,257\n",
            "Non-trainable params: 0\n",
            "_________________________________________________________________\n"
          ]
        }
      ]
    },
    {
      "cell_type": "markdown",
      "source": [
        "## **Compiling the model**"
      ],
      "metadata": {
        "id": "OgDeQYobmbIk"
      }
    },
    {
      "cell_type": "code",
      "source": [
        "# Compile the model\n",
        "model.compile(optimizer=keras.optimizers.Adam(learning_rate=0.0001),\n",
        "              loss='binary_crossentropy',    \n",
        "              metrics=['accuracy'])\n",
        "# loss= sparse_categorical_crossentropy  for multiClass"
      ],
      "metadata": {
        "id": "RUn3I3wHmdpa"
      },
      "execution_count": null,
      "outputs": []
    },
    {
      "cell_type": "markdown",
      "source": [
        "## **Re-Training the Model**"
      ],
      "metadata": {
        "id": "xYGimRernKU3"
      }
    },
    {
      "cell_type": "code",
      "source": [
        "# Train, evaluate and save the best model\n",
        "history = model.fit(data_train,\n",
        "                    epochs=10,\n",
        "                    validation_data=data_valid,\n",
        "                    callbacks=[model_checkpoint_cb,\n",
        "                               early_stopping_cb,\n",
        "                               reduce_lr_on_plateau_cb])"
      ],
      "metadata": {
        "colab": {
          "base_uri": "https://localhost:8080/"
        },
        "id": "OBTmR2epnK94",
        "outputId": "4ba7c4e0-43bd-4cb5-bada-6350b858e662"
      },
      "execution_count": null,
      "outputs": [
        {
          "output_type": "stream",
          "name": "stdout",
          "text": [
            "Epoch 1/10\n",
            "24500/24500 [==============================] - 401s 16ms/step - loss: 0.2265 - accuracy: 0.9051 - val_loss: 0.1943 - val_accuracy: 0.9212 - lr: 1.0000e-04\n",
            "Epoch 2/10\n",
            "24500/24500 [==============================] - 400s 16ms/step - loss: 0.1652 - accuracy: 0.9346 - val_loss: 0.1875 - val_accuracy: 0.9247 - lr: 1.0000e-04\n",
            "Epoch 3/10\n",
            "24500/24500 [==============================] - 401s 16ms/step - loss: 0.1466 - accuracy: 0.9431 - val_loss: 0.1872 - val_accuracy: 0.9253 - lr: 1.0000e-04\n",
            "Epoch 4/10\n",
            "24500/24500 [==============================] - 401s 16ms/step - loss: 0.1326 - accuracy: 0.9494 - val_loss: 0.1893 - val_accuracy: 0.9256 - lr: 1.0000e-04\n",
            "Epoch 5/10\n",
            "24500/24500 [==============================] - 400s 16ms/step - loss: 0.1199 - accuracy: 0.9552 - val_loss: 0.1929 - val_accuracy: 0.9254 - lr: 1.0000e-04\n",
            "Epoch 6/10\n",
            "24500/24500 [==============================] - 403s 16ms/step - loss: 0.1078 - accuracy: 0.9606 - val_loss: 0.1983 - val_accuracy: 0.9246 - lr: 1.0000e-04\n",
            "Epoch 7/10\n",
            "24500/24500 [==============================] - 404s 16ms/step - loss: 0.0960 - accuracy: 0.9655 - val_loss: 0.2054 - val_accuracy: 0.9239 - lr: 1.0000e-04\n",
            "Epoch 8/10\n",
            "24500/24500 [==============================] - 403s 16ms/step - loss: 0.0844 - accuracy: 0.9706 - val_loss: 0.2145 - val_accuracy: 0.9227 - lr: 1.0000e-04\n"
          ]
        }
      ]
    },
    {
      "cell_type": "markdown",
      "source": [
        "## **Learning Curve 2**"
      ],
      "metadata": {
        "id": "xC-hbvOb7-yG"
      }
    },
    {
      "cell_type": "code",
      "source": [
        "# Make directory\n",
        "directory = os.path.dirname(abspath_curr + 'result/DNN_figure_yelp/')\n",
        "if not os.path.exists(directory):\n",
        "    os.makedirs(directory)\n",
        "\n",
        "import pandas as pd\n",
        "\n",
        "# Create a figure\n",
        "pd.DataFrame(history.history).plot(figsize=(8, 5))\n",
        "\n",
        "# Save and show the figure\n",
        "plt.tight_layout()\n",
        "plt.legend(loc='center')\n",
        "plt.title(\"Learning Curve\")\n",
        "plt.xlabel('Epoch')\n",
        "plt.savefig(abspath_curr + 'result/DNN_figure/learning_curve_yelp2.pdf')\n",
        "plt.show()"
      ],
      "metadata": {
        "colab": {
          "base_uri": "https://localhost:8080/",
          "height": 389
        },
        "id": "aGwE5p1w8VRR",
        "outputId": "40320285-9dbc-477c-8cac-2f72cf7acd63"
      },
      "execution_count": null,
      "outputs": [
        {
          "output_type": "display_data",
          "data": {
            "text/plain": [
              "<Figure size 576x360 with 1 Axes>"
            ],
            "image/png": "[encoded data removed]"
          },
          "metadata": {
            "needs_background": "light"
          }
        }
      ]
    },
    {
      "cell_type": "markdown",
      "metadata": {
        "id": "RkGivY_MA6m1"
      },
      "source": [
        "# Testing"
      ]
    },
    {
      "cell_type": "markdown",
      "source": [
        "### **Loading the saved model**"
      ],
      "metadata": {
        "id": "L_r2MJ_09lol"
      }
    },
    {
      "cell_type": "code",
      "source": [
        "model.load_weights(filepath=abspath_curr + 'result/RNN_model_yelp_reviews/model.h5')"
      ],
      "metadata": {
        "id": "HsX7snCi9_vj"
      },
      "execution_count": null,
      "outputs": []
    },
    {
      "cell_type": "markdown",
      "source": [
        "## **Evaluating the Model**"
      ],
      "metadata": {
        "id": "WJgQ-pqB-dvq"
      }
    },
    {
      "cell_type": "code",
      "source": [
        "loss, accuracy= model.evaluate(data_test)"
      ],
      "metadata": {
        "colab": {
          "base_uri": "https://localhost:8080/"
        },
        "id": "K903YJod-ge2",
        "outputId": "b474c262-e49b-46fe-9047-a76c69036c5b"
      },
      "execution_count": null,
      "outputs": [
        {
          "output_type": "stream",
          "name": "stdout",
          "text": [
            "2375/2375 [==============================] - 9s 4ms/step - loss: 0.1806 - accuracy: 0.9282\n"
          ]
        }
      ]
    },
    {
      "cell_type": "markdown",
      "source": [
        "## **Reference**"
      ],
      "metadata": {
        "id": "zoIEpxuMBRXp"
      }
    },
    {
      "cell_type": "markdown",
      "source": [
        "\n",
        "*   The pipeline for this Deep Neural Network is credited to [Yuxiao Huang](https://github.com/yuxiaohuang/teaching/tree/master/gwu/machine_learning_I/spring_2022/code/p3_deep_learning/p3_c2_supervised_learning)\n",
        "\n"
      ],
      "metadata": {
        "id": "jeSSbGt5BRlo"
      }
    }
  ],
  "metadata": {
    "accelerator": "GPU",
    "colab": {
      "collapsed_sections": [],
      "name": "Copy of Homework_6_Osemekhian_Ehilen.ipynb",
      "provenance": [],
      "machine_shape": "hm"
    },
    "kernelspec": {
      "display_name": "Python 3 (ipykernel)",
      "language": "python",
      "name": "python3"
    },
    "language_info": {
      "codemirror_mode": {
        "name": "ipython",
        "version": 3
      },
      "file_extension": ".py",
      "mimetype": "text/x-python",
      "name": "python",
      "nbconvert_exporter": "python",
      "pygments_lexer": "ipython3",
      "version": "3.9.7"
    },
    "toc": {
      "base_numbering": 1,
      "nav_menu": {},
      "number_sections": true,
      "sideBar": true,
      "skip_h1_title": false,
      "title_cell": "Table of Contents",
      "title_sidebar": "Contents",
      "toc_cell": true,
      "toc_position": {},
      "toc_section_display": true,
      "toc_window_display": false
    }
  },
  "nbformat": 4,
  "nbformat_minor": 0
}